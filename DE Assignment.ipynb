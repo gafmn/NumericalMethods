{
 "cells": [
  {
   "cell_type": "markdown",
   "metadata": {},
   "source": [
    "# Differential equations. Assignment. Numerical methods\n",
    "Madina Gafarova, BS17-02"
   ]
  },
  {
   "cell_type": "markdown",
   "metadata": {},
   "source": [
    "### $f(x)= x^3y^4 - y/x$\n",
    "$x0 = 1y0 = 0.5X = 3$\n",
    "\n",
    "### $$\n",
    "\\left\\{\\begin{matrix}\n",
    "  y'=f(x, y)\\\\ \n",
    "  y(x_{0})=y_{0}\\\\\n",
    "  x\\in [x_{0}, X]\n",
    "\\end{matrix}\\right.\n",
    "$$"
   ]
  },
  {
   "cell_type": "markdown",
   "metadata": {},
   "source": [
    "**Import libraries :** "
   ]
  },
  {
   "cell_type": "code",
   "execution_count": 1,
   "metadata": {},
   "outputs": [],
   "source": [
    "import matplotlib.pyplot as plt\n",
    "import numpy as np\n",
    "%matplotlib inline\n",
    "\n",
    "import plotly.plotly as ply\n",
    "import plotly.graph_objs as go\n",
    "\n",
    "import warnings\n",
    "warnings.filterwarnings('ignore')"
   ]
  },
  {
   "cell_type": "markdown",
   "metadata": {},
   "source": [
    "Initial function and initial points"
   ]
  },
  {
   "cell_type": "code",
   "execution_count": 2,
   "metadata": {},
   "outputs": [],
   "source": [
    "f = lambda x, y: x**3 * y**4 - y/x\n",
    "x0 = 1\n",
    "y0 = 0.5\n",
    "X = 3\n",
    "h = 0.01\n",
    "\n",
    "##Exact function(solution)\n",
    "f_exact =  lambda x: (11-3*x)**(-1/3)/x"
   ]
  },
  {
   "cell_type": "markdown",
   "metadata": {},
   "source": [
    "# Euler method"
   ]
  },
  {
   "cell_type": "code",
   "execution_count": 3,
   "metadata": {},
   "outputs": [],
   "source": [
    "def euler_method(f, x0, y0, X, h):\n",
    "    x = x0\n",
    "    y = y0\n",
    "    \n",
    "    num_steps = int((X - x)/h)\n",
    "    array = [(x, y)]\n",
    "    for i in range(num_steps):\n",
    "        y = y + h*f(x, y)\n",
    "        x = x + h\n",
    "        array.append((x, y))\n",
    "    return np.array(array)"
   ]
  },
  {
   "cell_type": "code",
   "execution_count": 4,
   "metadata": {},
   "outputs": [],
   "source": [
    "array = euler_method(f, x0, y0, X, h)"
   ]
  },
  {
   "cell_type": "markdown",
   "metadata": {},
   "source": [
    "### The plot of Euler method"
   ]
  },
  {
   "cell_type": "code",
   "execution_count": 5,
   "metadata": {},
   "outputs": [
    {
     "data": {
      "text/plain": [
       "[<matplotlib.lines.Line2D at 0x110942390>]"
      ]
     },
     "execution_count": 5,
     "metadata": {},
     "output_type": "execute_result"
    },
    {
     "data": {
      "image/png": "[encoded data removed]",
      "text/plain": [
       "<Figure size 432x288 with 1 Axes>"
      ]
     },
     "metadata": {},
     "output_type": "display_data"
    }
   ],
   "source": [
    "plt.plot(array[:,0], array[:,1])\n",
    "plt.plot(array[:,0], f_exact(array[:,0]))"
   ]
  },
  {
   "cell_type": "markdown",
   "metadata": {},
   "source": [
    "### The error of Euler method"
   ]
  },
  {
   "cell_type": "code",
   "execution_count": 6,
   "metadata": {},
   "outputs": [
    {
     "data": {
      "text/plain": [
       "[<matplotlib.lines.Line2D at 0x11bf3eb70>]"
      ]
     },
     "execution_count": 6,
     "metadata": {},
     "output_type": "execute_result"
    },
    {
     "data": {
      "image/png": "[encoded data removed]",
      "text/plain": [
       "<Figure size 432x288 with 1 Axes>"
      ]
     },
     "metadata": {},
     "output_type": "display_data"
    }
   ],
   "source": [
    "error = np.abs(f_exact(array[:,0])-array[:,1])\n",
    "plt.plot(array[:,0], error)"
   ]
  },
  {
   "cell_type": "markdown",
   "metadata": {},
   "source": [
    "**Printing Euler error**"
   ]
  },
  {
   "cell_type": "code",
   "execution_count": 7,
   "metadata": {},
   "outputs": [
    {
     "name": "stdout",
     "output_type": "stream",
     "text": [
      "[0.00000000e+00 4.48683877e-05 8.82158867e-05 1.30110658e-04\n",
      " 1.70617374e-04 2.09797427e-04 2.47709126e-04]\n"
     ]
    }
   ],
   "source": [
    "print(error[:7])"
   ]
  },
  {
   "cell_type": "markdown",
   "metadata": {},
   "source": [
    "# Improved Euler method"
   ]
  },
  {
   "cell_type": "code",
   "execution_count": 8,
   "metadata": {},
   "outputs": [],
   "source": [
    "def improved_euler_method(f , x0, y0, X, h):\n",
    "    x = x0\n",
    "    y = y0\n",
    "    \n",
    "    num_steps = int((X - x)/h)\n",
    "    array_im = [(x, y)]\n",
    "    \n",
    "    for i in range (num_steps):\n",
    "        tmp = y\n",
    "        y = y + h*f(x,y)\n",
    "        y = tmp + h/2*(f(x, tmp) + f(x+h, y))\n",
    "        x = x + h\n",
    "        array_im.append((x, y))\n",
    "    return np.array(array_im)"
   ]
  },
  {
   "cell_type": "code",
   "execution_count": 9,
   "metadata": {},
   "outputs": [],
   "source": [
    "array_im = improved_euler_method(f, x0, y0, X, h)"
   ]
  },
  {
   "cell_type": "markdown",
   "metadata": {},
   "source": [
    "## The plot of Improved Euler method"
   ]
  },
  {
   "cell_type": "code",
   "execution_count": 10,
   "metadata": {},
   "outputs": [
    {
     "data": {
      "text/plain": [
       "[<matplotlib.lines.Line2D at 0x10dc02ef0>]"
      ]
     },
     "execution_count": 10,
     "metadata": {},
     "output_type": "execute_result"
    },
    {
     "data": {
      "image/png": "[encoded data removed]",
      "text/plain": [
       "<Figure size 432x288 with 1 Axes>"
      ]
     },
     "metadata": {},
     "output_type": "display_data"
    }
   ],
   "source": [
    "plt.plot(array_im[:,0], array_im[:,1])\n",
    "plt.plot(array_im[:,0], f_exact(array_im[:,0]))"
   ]
  },
  {
   "cell_type": "markdown",
   "metadata": {},
   "source": [
    "## The error of Improved Euler method"
   ]
  },
  {
   "cell_type": "code",
   "execution_count": 11,
   "metadata": {},
   "outputs": [
    {
     "data": {
      "text/plain": [
       "[<matplotlib.lines.Line2D at 0x11c131828>]"
      ]
     },
     "execution_count": 11,
     "metadata": {},
     "output_type": "execute_result"
    },
    {
     "data": {
      "image/png": "[encoded data removed]",
      "text/plain": [
       "<Figure size 432x288 with 1 Axes>"
      ]
     },
     "metadata": {},
     "output_type": "display_data"
    }
   ],
   "source": [
    "error_im = np.abs(f_exact(array_im[:,0])-array_im[:,1])\n",
    "plt.plot(array_im[:,0], error_im)"
   ]
  },
  {
   "cell_type": "markdown",
   "metadata": {},
   "source": [
    "**Printing Improved Euler error**"
   ]
  },
  {
   "cell_type": "code",
   "execution_count": 12,
   "metadata": {},
   "outputs": [
    {
     "name": "stdout",
     "output_type": "stream",
     "text": [
      "[0.00000000e+00 1.10307652e-07 2.17225256e-07 3.20899832e-07\n",
      " 4.21471093e-07 5.19071874e-07 6.13828533e-07]\n"
     ]
    }
   ],
   "source": [
    "print(error_im[:7])"
   ]
  },
  {
   "cell_type": "markdown",
   "metadata": {},
   "source": [
    "# Runge-Kutta method"
   ]
  },
  {
   "cell_type": "code",
   "execution_count": 13,
   "metadata": {},
   "outputs": [],
   "source": [
    "def runge_kutta_method(f, x0, y0, X, h):\n",
    "    x = x0\n",
    "    y = y0\n",
    "    \n",
    "    num_steps = int((X - x)/h)\n",
    "    array_rk = [(x, y)]\n",
    "    \n",
    "    for i in range(num_steps):\n",
    "        k1 = h*f(x, y)\n",
    "        k2 = h*f(x + h/2, y + k1/2)\n",
    "        k3 = h*f(x + h/2, y + k2/2)\n",
    "        k4 = h*f(x + h, y + k3)\n",
    "        y = y + 1/6*(k1 + 2*k2 + 2*k3+ k4)\n",
    "        x = x + h\n",
    "        array_rk.append((x, y))\n",
    "    return np.array(array_rk)"
   ]
  },
  {
   "cell_type": "code",
   "execution_count": 14,
   "metadata": {},
   "outputs": [],
   "source": [
    "array_rk = runge_kutta_method(f, x0, y0, X, h)"
   ]
  },
  {
   "cell_type": "markdown",
   "metadata": {},
   "source": [
    "## The plot of Runge-Kutta method"
   ]
  },
  {
   "cell_type": "code",
   "execution_count": 15,
   "metadata": {},
   "outputs": [
    {
     "data": {
      "text/plain": [
       "[<matplotlib.lines.Line2D at 0x11c165ba8>]"
      ]
     },
     "execution_count": 15,
     "metadata": {},
     "output_type": "execute_result"
    },
    {
     "data": {
      "image/png": "[encoded data removed]",
      "text/plain": [
       "<Figure size 432x288 with 1 Axes>"
      ]
     },
     "metadata": {},
     "output_type": "display_data"
    }
   ],
   "source": [
    "plt.plot(array_rk[:,0], array_rk[:,1])\n",
    "plt.plot(array_rk[:,0], f_exact(array_rk[:,0]))"
   ]
  },
  {
   "cell_type": "markdown",
   "metadata": {},
   "source": [
    "## The error of Runge-Kutta method"
   ]
  },
  {
   "cell_type": "code",
   "execution_count": 16,
   "metadata": {
    "scrolled": false
   },
   "outputs": [
    {
     "data": {
      "text/plain": [
       "[<matplotlib.lines.Line2D at 0x11c2beac8>]"
      ]
     },
     "execution_count": 16,
     "metadata": {},
     "output_type": "execute_result"
    },
    {
     "data": {
      "image/png": "[encoded data removed]",
      "text/plain": [
       "<Figure size 432x288 with 1 Axes>"
      ]
     },
     "metadata": {},
     "output_type": "display_data"
    }
   ],
   "source": [
    "error_rk = np.abs(f_exact(array_rk[:,0])-array_rk[:,1])\n",
    "plt.plot(array_rk[:,0], error_rk)"
   ]
  },
  {
   "cell_type": "markdown",
   "metadata": {},
   "source": [
    "**Printing Runge-Kutta error**"
   ]
  },
  {
   "cell_type": "code",
   "execution_count": 17,
   "metadata": {},
   "outputs": [
    {
     "name": "stdout",
     "output_type": "stream",
     "text": [
      "[0.00000000e+00 7.81763543e-13 1.52916568e-12 2.24392727e-12\n",
      " 2.92804669e-12 3.58307828e-12 4.21074287e-12]\n"
     ]
    }
   ],
   "source": [
    "print(error_rk[:7])"
   ]
  },
  {
   "cell_type": "markdown",
   "metadata": {},
   "source": [
    "## Comparisons of numerical methods"
   ]
  },
  {
   "cell_type": "code",
   "execution_count": 18,
   "metadata": {},
   "outputs": [
    {
     "data": {
      "text/html": [
       "<iframe id=\"igraph\" scrolling=\"no\" style=\"border:none;\" seamless=\"seamless\" src=\"https://plot.ly/~gafmn/42.embed\" height=\"525px\" width=\"100%\"></iframe>"
      ],
      "text/plain": [
       "<plotly.tools.PlotlyDisplay object>"
      ]
     },
     "execution_count": 18,
     "metadata": {},
     "output_type": "execute_result"
    }
   ],
   "source": [
    "trace1 = go.Scatter(\n",
    "    name = \"Exact solution\",\n",
    "    x = array[:,0],\n",
    "    y = f_exact(array[:,0])\n",
    ")\n",
    "trace2 = go.Scatter(\n",
    "    name = \"Euler method\",\n",
    "    x = array[:,0],\n",
    "    y = array[:,1]\n",
    ")\n",
    "trace3 = go.Scatter(\n",
    "    name = \"Euler improved method\",\n",
    "    x = array_im[:,0],\n",
    "    y = array_im[:,1]\n",
    ")\n",
    "trace4 = go.Scatter(\n",
    "    name = \"Runge-Kutta method\",\n",
    "    x = array_rk[:,0],\n",
    "    y = array_rk[:,1]\n",
    ")\n",
    "layout_ltr = go.Layout(title=\"Comparison of numerical methods\")\n",
    "data = [trace1, trace2, trace3, trace4]\n",
    "fig = go.Figure(data= data, layout=layout_ltr)\n",
    "ply.iplot(fig)"
   ]
  },
  {
   "cell_type": "markdown",
   "metadata": {},
   "source": [
    "## Comparisons of numerical errors"
   ]
  },
  {
   "cell_type": "code",
   "execution_count": 19,
   "metadata": {
    "scrolled": false
   },
   "outputs": [
    {
     "data": {
      "text/html": [
       "<iframe id=\"igraph\" scrolling=\"no\" style=\"border:none;\" seamless=\"seamless\" src=\"https://plot.ly/~gafmn/44.embed\" height=\"525px\" width=\"100%\"></iframe>"
      ],
      "text/plain": [
       "<plotly.tools.PlotlyDisplay object>"
      ]
     },
     "execution_count": 19,
     "metadata": {},
     "output_type": "execute_result"
    }
   ],
   "source": [
    "trace_error1 = go.Scatter(\n",
    "    name = \"Euler method\",\n",
    "    x = array[:,0],\n",
    "    y = error\n",
    ")\n",
    "trace_error2 = go.Scatter(\n",
    "    name = \"Euler improved error\",\n",
    "    x = array_im[:,0],\n",
    "    y = error_im\n",
    ")\n",
    "trace_error3 = go.Scatter(\n",
    "    name = \"Runge-Kutta error\",\n",
    "    x = array_rk[:,0],\n",
    "    y = error_rk\n",
    ")\n",
    "layout_ltr = go.Layout(title=\"Comparison of numerical errors\")\n",
    "data = [trace_error1, trace_error2, trace_error3]\n",
    "fig = go.Figure(data= data, layout=layout_ltr)\n",
    "ply.iplot(fig)"
   ]
  },
  {
   "cell_type": "markdown",
   "metadata": {},
   "source": [
    "## Log10 errors"
   ]
  },
  {
   "cell_type": "code",
   "execution_count": 20,
   "metadata": {
    "scrolled": false
   },
   "outputs": [
    {
     "data": {
      "text/html": [
       "<iframe id=\"igraph\" scrolling=\"no\" style=\"border:none;\" seamless=\"seamless\" src=\"https://plot.ly/~gafmn/46.embed\" height=\"525px\" width=\"100%\"></iframe>"
      ],
      "text/plain": [
       "<plotly.tools.PlotlyDisplay object>"
      ]
     },
     "execution_count": 20,
     "metadata": {},
     "output_type": "execute_result"
    }
   ],
   "source": [
    "trace_log_error1 = go.Scatter(\n",
    "    name = \"Euler method\",\n",
    "    x = array[:,0],\n",
    "    y = np.log10(error)\n",
    ")\n",
    "trace_log_error2 = go.Scatter(\n",
    "    name = \"Euler improved error\",\n",
    "    x = array_im[:,0],\n",
    "    y = np.log10(error_im)\n",
    ")\n",
    "trace_log_error3 = go.Scatter(\n",
    "    name = \"Runge-Kutta error\",\n",
    "    x = array_rk[:,0],\n",
    "    y = np.log10(error_rk)\n",
    ")\n",
    "layout_ltr = go.Layout(title=\"Comparison of numerical log10 errors\", yaxis=dict(title=\"Log10 error\"))\n",
    "data = [trace_log_error1, trace_log_error2, trace_log_error3]\n",
    "fig = go.Figure(data= data, layout=layout_ltr)\n",
    "ply.iplot(fig)"
   ]
  }
 ],
 "metadata": {
  "kernelspec": {
   "display_name": "Python 3",
   "language": "python",
   "name": "python3"
  },
  "language_info": {
   "codemirror_mode": {
    "name": "ipython",
    "version": 3
   },
   "file_extension": ".py",
   "mimetype": "text/x-python",
   "name": "python",
   "nbconvert_exporter": "python",
   "pygments_lexer": "ipython3",
   "version": "3.6.5"
  }
 },
 "nbformat": 4,
 "nbformat_minor": 2
}
